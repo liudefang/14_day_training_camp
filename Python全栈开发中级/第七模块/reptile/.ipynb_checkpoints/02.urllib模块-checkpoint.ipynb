{
 "cells": [
  {
   "cell_type": "markdown",
   "metadata": {
    "collapsed": true
   },
   "source": [
    "Python中自带的一个基于爬虫的模块\n",
    "作用：可以使用代码模拟浏览器发起请求\n",
    "使用流程：\n",
    "- 指定url\n",
    "- 发起请求\n",
    "- 获取页面数据\n",
    "- 持久化存储"
   ]
  },
  {
   "cell_type": "code",
   "execution_count": 1,
   "metadata": {},
   "outputs": [
    {
     "name": "stdout",
     "output_type": "stream",
     "text": [
      "写入数据成功\n"
     ]
    }
   ],
   "source": [
    "\n",
    "# 需求：爬取搜狗首页的页面数据\n",
    "import urllib.request\n",
    "# 1.指定url\n",
    "url = 'https://www.sogou.com'\n",
    "# 2. 发起请求：urlopen可以根据指定的url发起请求，且返回一个响应对象\n",
    "response = urllib.request.urlopen(url=url)\n",
    "# 3. 获取页面数据：read函数返回的就是响应对象中存储的页面数据(byte)\n",
    "page_text = response.read()\n",
    "# 4.持久化存储\n",
    "with open('./sougou.html', 'wb') as fp:\n",
    "    fp.write(page_text)\n",
    "    print('写入数据成功')"
   ]
  },
  {
   "cell_type": "code",
   "execution_count": null,
   "metadata": {},
   "outputs": [],
   "source": []
  }
 ],
 "metadata": {
  "kernelspec": {
   "display_name": "Python 3",
   "language": "python",
   "name": "python3"
  },
  "language_info": {
   "codemirror_mode": {
    "name": "ipython",
    "version": 3
   },
   "file_extension": ".py",
   "mimetype": "text/x-python",
   "name": "python",
   "nbconvert_exporter": "python",
   "pygments_lexer": "ipython3",
   "version": "3.7.0"
  }
 },
 "nbformat": 4,
 "nbformat_minor": 1
}
